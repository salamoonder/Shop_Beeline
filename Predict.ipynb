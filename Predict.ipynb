{
  "nbformat": 4,
  "nbformat_minor": 0,
  "metadata": {
    "colab": {
      "name": "Predict.ipynb",
      "provenance": [],
      "collapsed_sections": [],
      "authorship_tag": "ABX9TyN14ffwlys4YutVcPDTqeh+",
      "include_colab_link": true
    },
    "kernelspec": {
      "name": "python3",
      "display_name": "Python 3"
    }
  },
  "cells": [
    {
      "cell_type": "markdown",
      "metadata": {
        "id": "view-in-github",
        "colab_type": "text"
      },
      "source": [
        "<a href=\"https://colab.research.google.com/github/salamoonder/Shop_Beeline/blob/master/Predict.ipynb\" target=\"_parent\"><img src=\"https://colab.research.google.com/assets/colab-badge.svg\" alt=\"Open In Colab\"/></a>"
      ]
    },
    {
      "cell_type": "code",
      "metadata": {
        "id": "x7-XAY9R8ect",
        "colab_type": "code",
        "colab": {}
      },
      "source": [
        "from google.colab import files\n",
        "files.upload()"
      ],
      "execution_count": null,
      "outputs": []
    },
    {
      "cell_type": "code",
      "metadata": {
        "id": "Rq9GS6jI8kfh",
        "colab_type": "code",
        "colab": {}
      },
      "source": [
        "import pandas as pd\n",
        "import numpy as np\n",
        "import matplotlib.pyplot as plt  \n",
        "from sklearn import metrics\n",
        "from sklearn.model_selection import train_test_split\n",
        "from sklearn.linear_model import LinearRegression\n",
        "from IPython.display import HTML\n",
        "\n",
        "\n",
        "\n",
        "df = pd.read_excel('dataset.xlsx')"
      ],
      "execution_count": 2,
      "outputs": []
    },
    {
      "cell_type": "code",
      "metadata": {
        "id": "kpVMlwtX8nio",
        "colab_type": "code",
        "colab": {
          "base_uri": "https://localhost:8080/",
          "height": 195
        },
        "outputId": "de017623-c677-421a-b7e1-909ed04c6063"
      },
      "source": [
        "df.head()"
      ],
      "execution_count": 3,
      "outputs": [
        {
          "output_type": "execute_result",
          "data": {
            "text/html": [
              "<div>\n",
              "<style scoped>\n",
              "    .dataframe tbody tr th:only-of-type {\n",
              "        vertical-align: middle;\n",
              "    }\n",
              "\n",
              "    .dataframe tbody tr th {\n",
              "        vertical-align: top;\n",
              "    }\n",
              "\n",
              "    .dataframe thead th {\n",
              "        text-align: right;\n",
              "    }\n",
              "</style>\n",
              "<table border=\"1\" class=\"dataframe\">\n",
              "  <thead>\n",
              "    <tr style=\"text-align: right;\">\n",
              "      <th></th>\n",
              "      <th>year</th>\n",
              "      <th>gdp</th>\n",
              "      <th>edu</th>\n",
              "      <th>health</th>\n",
              "      <th>prom</th>\n",
              "      <th>resource</th>\n",
              "      <th>science</th>\n",
              "      <th>gov</th>\n",
              "      <th>humancap</th>\n",
              "      <th>agricult</th>\n",
              "      <th>socialgrowth</th>\n",
              "      <th>humanres</th>\n",
              "      <th>econgrowth</th>\n",
              "    </tr>\n",
              "  </thead>\n",
              "  <tbody>\n",
              "    <tr>\n",
              "      <th>0</th>\n",
              "      <td>1990</td>\n",
              "      <td>-9.2</td>\n",
              "      <td>0.1</td>\n",
              "      <td>1.3</td>\n",
              "      <td>3.4</td>\n",
              "      <td>2.0</td>\n",
              "      <td>1.1</td>\n",
              "      <td>1.0</td>\n",
              "      <td>2.45</td>\n",
              "      <td>3.2</td>\n",
              "      <td>6.7</td>\n",
              "      <td>15.3</td>\n",
              "      <td>1.4</td>\n",
              "    </tr>\n",
              "    <tr>\n",
              "      <th>1</th>\n",
              "      <td>1991</td>\n",
              "      <td>-8.2</td>\n",
              "      <td>0.1</td>\n",
              "      <td>1.4</td>\n",
              "      <td>3.5</td>\n",
              "      <td>2.2</td>\n",
              "      <td>1.3</td>\n",
              "      <td>1.0</td>\n",
              "      <td>2.30</td>\n",
              "      <td>5.4</td>\n",
              "      <td>3.0</td>\n",
              "      <td>12.4</td>\n",
              "      <td>1.3</td>\n",
              "    </tr>\n",
              "    <tr>\n",
              "      <th>2</th>\n",
              "      <td>1992</td>\n",
              "      <td>-8.5</td>\n",
              "      <td>0.3</td>\n",
              "      <td>1.5</td>\n",
              "      <td>1.2</td>\n",
              "      <td>1.2</td>\n",
              "      <td>4.4</td>\n",
              "      <td>1.0</td>\n",
              "      <td>2.30</td>\n",
              "      <td>5.2</td>\n",
              "      <td>3.4</td>\n",
              "      <td>11.4</td>\n",
              "      <td>1.3</td>\n",
              "    </tr>\n",
              "    <tr>\n",
              "      <th>3</th>\n",
              "      <td>1993</td>\n",
              "      <td>-9.2</td>\n",
              "      <td>0.3</td>\n",
              "      <td>1.6</td>\n",
              "      <td>2.1</td>\n",
              "      <td>1.4</td>\n",
              "      <td>1.2</td>\n",
              "      <td>1.0</td>\n",
              "      <td>2.10</td>\n",
              "      <td>5.6</td>\n",
              "      <td>5.6</td>\n",
              "      <td>9.7</td>\n",
              "      <td>1.4</td>\n",
              "    </tr>\n",
              "    <tr>\n",
              "      <th>4</th>\n",
              "      <td>1994</td>\n",
              "      <td>-9.2</td>\n",
              "      <td>0.1</td>\n",
              "      <td>1.5</td>\n",
              "      <td>2.6</td>\n",
              "      <td>3.1</td>\n",
              "      <td>2.1</td>\n",
              "      <td>1.0</td>\n",
              "      <td>2.50</td>\n",
              "      <td>7.4</td>\n",
              "      <td>4.5</td>\n",
              "      <td>9.5</td>\n",
              "      <td>1.4</td>\n",
              "    </tr>\n",
              "  </tbody>\n",
              "</table>\n",
              "</div>"
            ],
            "text/plain": [
              "   year  gdp  edu  health  ...  agricult  socialgrowth  humanres  econgrowth\n",
              "0  1990 -9.2  0.1     1.3  ...       3.2           6.7      15.3         1.4\n",
              "1  1991 -8.2  0.1     1.4  ...       5.4           3.0      12.4         1.3\n",
              "2  1992 -8.5  0.3     1.5  ...       5.2           3.4      11.4         1.3\n",
              "3  1993 -9.2  0.3     1.6  ...       5.6           5.6       9.7         1.4\n",
              "4  1994 -9.2  0.1     1.5  ...       7.4           4.5       9.5         1.4\n",
              "\n",
              "[5 rows x 13 columns]"
            ]
          },
          "metadata": {
            "tags": []
          },
          "execution_count": 3
        }
      ]
    },
    {
      "cell_type": "code",
      "metadata": {
        "id": "uTscxsLT8qw_",
        "colab_type": "code",
        "colab": {
          "base_uri": "https://localhost:8080/",
          "height": 284
        },
        "outputId": "dbedfa53-48d7-4c08-ced9-f29cefac4963"
      },
      "source": [
        "df.drop('year',axis=1).describe()"
      ],
      "execution_count": 4,
      "outputs": [
        {
          "output_type": "execute_result",
          "data": {
            "text/html": [
              "<div>\n",
              "<style scoped>\n",
              "    .dataframe tbody tr th:only-of-type {\n",
              "        vertical-align: middle;\n",
              "    }\n",
              "\n",
              "    .dataframe tbody tr th {\n",
              "        vertical-align: top;\n",
              "    }\n",
              "\n",
              "    .dataframe thead th {\n",
              "        text-align: right;\n",
              "    }\n",
              "</style>\n",
              "<table border=\"1\" class=\"dataframe\">\n",
              "  <thead>\n",
              "    <tr style=\"text-align: right;\">\n",
              "      <th></th>\n",
              "      <th>gdp</th>\n",
              "      <th>edu</th>\n",
              "      <th>health</th>\n",
              "      <th>prom</th>\n",
              "      <th>resource</th>\n",
              "      <th>science</th>\n",
              "      <th>gov</th>\n",
              "      <th>humancap</th>\n",
              "      <th>agricult</th>\n",
              "      <th>socialgrowth</th>\n",
              "      <th>humanres</th>\n",
              "      <th>econgrowth</th>\n",
              "    </tr>\n",
              "  </thead>\n",
              "  <tbody>\n",
              "    <tr>\n",
              "      <th>count</th>\n",
              "      <td>30.000000</td>\n",
              "      <td>30.000000</td>\n",
              "      <td>30.000000</td>\n",
              "      <td>30.000000</td>\n",
              "      <td>30.00000</td>\n",
              "      <td>30.000000</td>\n",
              "      <td>30.000000</td>\n",
              "      <td>30.000000</td>\n",
              "      <td>30.00000</td>\n",
              "      <td>30.000000</td>\n",
              "      <td>30.000000</td>\n",
              "      <td>30.000000</td>\n",
              "    </tr>\n",
              "    <tr>\n",
              "      <th>mean</th>\n",
              "      <td>7.030000</td>\n",
              "      <td>3.666667</td>\n",
              "      <td>5.573333</td>\n",
              "      <td>14.786667</td>\n",
              "      <td>10.61000</td>\n",
              "      <td>8.423667</td>\n",
              "      <td>11.074000</td>\n",
              "      <td>3.387000</td>\n",
              "      <td>18.80000</td>\n",
              "      <td>25.445000</td>\n",
              "      <td>41.518667</td>\n",
              "      <td>10.040333</td>\n",
              "    </tr>\n",
              "    <tr>\n",
              "      <th>std</th>\n",
              "      <td>19.621841</td>\n",
              "      <td>3.387740</td>\n",
              "      <td>3.907282</td>\n",
              "      <td>11.037639</td>\n",
              "      <td>11.37715</td>\n",
              "      <td>10.126420</td>\n",
              "      <td>14.129774</td>\n",
              "      <td>1.728214</td>\n",
              "      <td>12.90461</td>\n",
              "      <td>20.453237</td>\n",
              "      <td>30.618263</td>\n",
              "      <td>11.002751</td>\n",
              "    </tr>\n",
              "    <tr>\n",
              "      <th>min</th>\n",
              "      <td>-33.800000</td>\n",
              "      <td>0.100000</td>\n",
              "      <td>1.100000</td>\n",
              "      <td>1.200000</td>\n",
              "      <td>1.20000</td>\n",
              "      <td>1.100000</td>\n",
              "      <td>0.300000</td>\n",
              "      <td>1.200000</td>\n",
              "      <td>2.00000</td>\n",
              "      <td>3.000000</td>\n",
              "      <td>4.600000</td>\n",
              "      <td>1.000000</td>\n",
              "    </tr>\n",
              "    <tr>\n",
              "      <th>25%</th>\n",
              "      <td>-8.425000</td>\n",
              "      <td>0.625000</td>\n",
              "      <td>1.675000</td>\n",
              "      <td>7.150000</td>\n",
              "      <td>3.50000</td>\n",
              "      <td>2.750000</td>\n",
              "      <td>1.100000</td>\n",
              "      <td>2.412500</td>\n",
              "      <td>5.45000</td>\n",
              "      <td>7.000000</td>\n",
              "      <td>11.650000</td>\n",
              "      <td>2.650000</td>\n",
              "    </tr>\n",
              "    <tr>\n",
              "      <th>50%</th>\n",
              "      <td>7.350000</td>\n",
              "      <td>3.250000</td>\n",
              "      <td>5.700000</td>\n",
              "      <td>10.400000</td>\n",
              "      <td>5.80000</td>\n",
              "      <td>5.000000</td>\n",
              "      <td>3.000000</td>\n",
              "      <td>3.000000</td>\n",
              "      <td>23.45000</td>\n",
              "      <td>23.800000</td>\n",
              "      <td>35.700000</td>\n",
              "      <td>5.200000</td>\n",
              "    </tr>\n",
              "    <tr>\n",
              "      <th>75%</th>\n",
              "      <td>23.450000</td>\n",
              "      <td>5.025000</td>\n",
              "      <td>8.425000</td>\n",
              "      <td>22.425000</td>\n",
              "      <td>11.27500</td>\n",
              "      <td>9.000000</td>\n",
              "      <td>17.525000</td>\n",
              "      <td>3.575000</td>\n",
              "      <td>30.37500</td>\n",
              "      <td>36.250000</td>\n",
              "      <td>66.975000</td>\n",
              "      <td>11.825000</td>\n",
              "    </tr>\n",
              "    <tr>\n",
              "      <th>max</th>\n",
              "      <td>41.800000</td>\n",
              "      <td>12.500000</td>\n",
              "      <td>13.200000</td>\n",
              "      <td>35.100000</td>\n",
              "      <td>41.50000</td>\n",
              "      <td>45.200000</td>\n",
              "      <td>45.700000</td>\n",
              "      <td>9.300000</td>\n",
              "      <td>37.10000</td>\n",
              "      <td>64.700000</td>\n",
              "      <td>88.600000</td>\n",
              "      <td>36.400000</td>\n",
              "    </tr>\n",
              "  </tbody>\n",
              "</table>\n",
              "</div>"
            ],
            "text/plain": [
              "             gdp        edu     health  ...  socialgrowth   humanres  econgrowth\n",
              "count  30.000000  30.000000  30.000000  ...     30.000000  30.000000   30.000000\n",
              "mean    7.030000   3.666667   5.573333  ...     25.445000  41.518667   10.040333\n",
              "std    19.621841   3.387740   3.907282  ...     20.453237  30.618263   11.002751\n",
              "min   -33.800000   0.100000   1.100000  ...      3.000000   4.600000    1.000000\n",
              "25%    -8.425000   0.625000   1.675000  ...      7.000000  11.650000    2.650000\n",
              "50%     7.350000   3.250000   5.700000  ...     23.800000  35.700000    5.200000\n",
              "75%    23.450000   5.025000   8.425000  ...     36.250000  66.975000   11.825000\n",
              "max    41.800000  12.500000  13.200000  ...     64.700000  88.600000   36.400000\n",
              "\n",
              "[8 rows x 12 columns]"
            ]
          },
          "metadata": {
            "tags": []
          },
          "execution_count": 4
        }
      ]
    },
    {
      "cell_type": "code",
      "metadata": {
        "id": "aKW1ow6p8sew",
        "colab_type": "code",
        "colab": {}
      },
      "source": [
        "X_data = df.drop('econgrowth',axis=1)\n",
        "y_data = df['econgrowth']\n",
        "X_train, X_test, y_train, y_test = train_test_split(X_data, y_data, test_size=0.2, random_state=0)"
      ],
      "execution_count": 5,
      "outputs": []
    },
    {
      "cell_type": "code",
      "metadata": {
        "id": "PqyYJZC88uGg",
        "colab_type": "code",
        "colab": {
          "base_uri": "https://localhost:8080/",
          "height": 373
        },
        "outputId": "3fd7f040-031d-41c0-f1ef-fb28bd3d9702"
      },
      "source": [
        "regressor = LinearRegression()  \n",
        "regressor.fit(X_train.drop('year',axis=1), y_train)\n",
        "coeff_df = pd.DataFrame(regressor.coef_, X_data.drop('year',axis=1).columns, columns=['Coefficient'])  \n",
        "coeff_df"
      ],
      "execution_count": 6,
      "outputs": [
        {
          "output_type": "execute_result",
          "data": {
            "text/html": [
              "<div>\n",
              "<style scoped>\n",
              "    .dataframe tbody tr th:only-of-type {\n",
              "        vertical-align: middle;\n",
              "    }\n",
              "\n",
              "    .dataframe tbody tr th {\n",
              "        vertical-align: top;\n",
              "    }\n",
              "\n",
              "    .dataframe thead th {\n",
              "        text-align: right;\n",
              "    }\n",
              "</style>\n",
              "<table border=\"1\" class=\"dataframe\">\n",
              "  <thead>\n",
              "    <tr style=\"text-align: right;\">\n",
              "      <th></th>\n",
              "      <th>Coefficient</th>\n",
              "    </tr>\n",
              "  </thead>\n",
              "  <tbody>\n",
              "    <tr>\n",
              "      <th>gdp</th>\n",
              "      <td>0.376693</td>\n",
              "    </tr>\n",
              "    <tr>\n",
              "      <th>edu</th>\n",
              "      <td>-1.232572</td>\n",
              "    </tr>\n",
              "    <tr>\n",
              "      <th>health</th>\n",
              "      <td>1.923752</td>\n",
              "    </tr>\n",
              "    <tr>\n",
              "      <th>prom</th>\n",
              "      <td>-0.027400</td>\n",
              "    </tr>\n",
              "    <tr>\n",
              "      <th>resource</th>\n",
              "      <td>0.611574</td>\n",
              "    </tr>\n",
              "    <tr>\n",
              "      <th>science</th>\n",
              "      <td>1.091863</td>\n",
              "    </tr>\n",
              "    <tr>\n",
              "      <th>gov</th>\n",
              "      <td>-1.081324</td>\n",
              "    </tr>\n",
              "    <tr>\n",
              "      <th>humancap</th>\n",
              "      <td>-2.813800</td>\n",
              "    </tr>\n",
              "    <tr>\n",
              "      <th>agricult</th>\n",
              "      <td>-0.630000</td>\n",
              "    </tr>\n",
              "    <tr>\n",
              "      <th>socialgrowth</th>\n",
              "      <td>-0.090177</td>\n",
              "    </tr>\n",
              "    <tr>\n",
              "      <th>humanres</th>\n",
              "      <td>0.364873</td>\n",
              "    </tr>\n",
              "  </tbody>\n",
              "</table>\n",
              "</div>"
            ],
            "text/plain": [
              "              Coefficient\n",
              "gdp              0.376693\n",
              "edu             -1.232572\n",
              "health           1.923752\n",
              "prom            -0.027400\n",
              "resource         0.611574\n",
              "science          1.091863\n",
              "gov             -1.081324\n",
              "humancap        -2.813800\n",
              "agricult        -0.630000\n",
              "socialgrowth    -0.090177\n",
              "humanres         0.364873"
            ]
          },
          "metadata": {
            "tags": []
          },
          "execution_count": 6
        }
      ]
    },
    {
      "cell_type": "code",
      "metadata": {
        "id": "NAD0m2Xy86h4",
        "colab_type": "code",
        "colab": {
          "base_uri": "https://localhost:8080/",
          "height": 225
        },
        "outputId": "ef99ea9b-a4c9-4c29-daeb-00dc912d19bf"
      },
      "source": [
        "y_pred = regressor.predict(X_test.drop('year',axis=1))\n",
        "df_pred = pd.DataFrame({'Actual': y_test, 'Predicted': y_pred})\n",
        "HTML(df_pred.to_html(index=False))"
      ],
      "execution_count": 7,
      "outputs": [
        {
          "output_type": "execute_result",
          "data": {
            "text/html": [
              "<table border=\"1\" class=\"dataframe\">\n",
              "  <thead>\n",
              "    <tr style=\"text-align: right;\">\n",
              "      <th>Actual</th>\n",
              "      <th>Predicted</th>\n",
              "    </tr>\n",
              "  </thead>\n",
              "  <tbody>\n",
              "    <tr>\n",
              "      <td>1.30</td>\n",
              "      <td>4.496265</td>\n",
              "    </tr>\n",
              "    <tr>\n",
              "      <td>10.40</td>\n",
              "      <td>25.332934</td>\n",
              "    </tr>\n",
              "    <tr>\n",
              "      <td>8.00</td>\n",
              "      <td>8.270756</td>\n",
              "    </tr>\n",
              "    <tr>\n",
              "      <td>3.40</td>\n",
              "      <td>1.786411</td>\n",
              "    </tr>\n",
              "    <tr>\n",
              "      <td>4.21</td>\n",
              "      <td>7.793257</td>\n",
              "    </tr>\n",
              "    <tr>\n",
              "      <td>4.70</td>\n",
              "      <td>-8.169547</td>\n",
              "    </tr>\n",
              "  </tbody>\n",
              "</table>"
            ],
            "text/plain": [
              "<IPython.core.display.HTML object>"
            ]
          },
          "metadata": {
            "tags": []
          },
          "execution_count": 7
        }
      ]
    },
    {
      "cell_type": "code",
      "metadata": {
        "id": "szGj3ly-88D4",
        "colab_type": "code",
        "colab": {
          "base_uri": "https://localhost:8080/",
          "height": 67
        },
        "outputId": "b6901eba-b98b-4383-a811-37112ec791c7"
      },
      "source": [
        "print('Mean Absolute Error:', metrics.mean_absolute_error(y_test, y_pred))  \n",
        "print('Mean Squared Error:', metrics.mean_squared_error(y_test, y_pred))  \n",
        "print('Root Mean Squared Error:', np.sqrt(metrics.mean_squared_error(y_test, y_pred)))\n"
      ],
      "execution_count": 8,
      "outputs": [
        {
          "output_type": "stream",
          "text": [
            "Mean Absolute Error: 6.077724481682158\n",
            "Mean Squared Error: 69.05842572211465\n",
            "Root Mean Squared Error: 8.310139933967095\n"
          ],
          "name": "stdout"
        }
      ]
    },
    {
      "cell_type": "code",
      "metadata": {
        "id": "KcLUAlUa89nZ",
        "colab_type": "code",
        "colab": {
          "base_uri": "https://localhost:8080/",
          "height": 296
        },
        "outputId": "7f2e8cc8-be93-478f-809e-442bdc44c483"
      },
      "source": [
        "plt.plot(X_data['year'], y_data,  color='green', linewidth=2)\n",
        "plt.plot(X_data['year'], regressor.predict(X_data.drop('year',axis=1)), color='red',linewidth=3)\n",
        "plt.xlabel('years')\n",
        "plt.ylabel('econgrowth')"
      ],
      "execution_count": 9,
      "outputs": [
        {
          "output_type": "execute_result",
          "data": {
            "text/plain": [
              "Text(0, 0.5, 'econgrowth')"
            ]
          },
          "metadata": {
            "tags": []
          },
          "execution_count": 9
        },
        {
          "output_type": "display_data",
          "data": {
            "image/png": "[encoded data removed]",
            "text/plain": [
              "<Figure size 432x288 with 1 Axes>"
            ]
          },
          "metadata": {
            "tags": [],
            "needs_background": "light"
          }
        }
      ]
    },
    {
      "cell_type": "code",
      "metadata": {
        "id": "_k8DIWyE8_I4",
        "colab_type": "code",
        "colab": {
          "base_uri": "https://localhost:8080/",
          "height": 34
        },
        "outputId": "283bd5fc-7023-42fe-9369-b6d9a1e7a353"
      },
      "source": [
        "regressor.predict(df[len(df)-2:len(df)-1].drop(['year','econgrowth'],axis = 1))\n"
      ],
      "execution_count": 10,
      "outputs": [
        {
          "output_type": "execute_result",
          "data": {
            "text/plain": [
              "array([25.33293377])"
            ]
          },
          "metadata": {
            "tags": []
          },
          "execution_count": 10
        }
      ]
    },
    {
      "cell_type": "code",
      "metadata": {
        "id": "DX6bmtMQ9BBI",
        "colab_type": "code",
        "colab": {
          "base_uri": "https://localhost:8080/",
          "height": 286
        },
        "outputId": "fc89d121-7777-42a8-82c9-27849d5423c1"
      },
      "source": [
        "!pip install pytelegrambotapi\n"
      ],
      "execution_count": 11,
      "outputs": [
        {
          "output_type": "stream",
          "text": [
            "Collecting pytelegrambotapi\n",
            "\u001b[?25l  Downloading https://files.pythonhosted.org/packages/16/1d/40c1fde174731bd58f014721a37c28d35210aa39c42c3e8b1659374a9bec/pyTelegramBotAPI-3.7.1.tar.gz (70kB)\n",
            "\r\u001b[K     |████▋                           | 10kB 9.0MB/s eta 0:00:01\r\u001b[K     |█████████▎                      | 20kB 1.7MB/s eta 0:00:01\r\u001b[K     |██████████████                  | 30kB 2.3MB/s eta 0:00:01\r\u001b[K     |██████████████████▋             | 40kB 2.5MB/s eta 0:00:01\r\u001b[K     |███████████████████████▎        | 51kB 2.0MB/s eta 0:00:01\r\u001b[K     |████████████████████████████    | 61kB 2.3MB/s eta 0:00:01\r\u001b[K     |████████████████████████████████| 71kB 2.1MB/s \n",
            "\u001b[?25hRequirement already satisfied: requests in /usr/local/lib/python3.6/dist-packages (from pytelegrambotapi) (2.23.0)\n",
            "Requirement already satisfied: six in /usr/local/lib/python3.6/dist-packages (from pytelegrambotapi) (1.12.0)\n",
            "Requirement already satisfied: certifi>=2017.4.17 in /usr/local/lib/python3.6/dist-packages (from requests->pytelegrambotapi) (2020.6.20)\n",
            "Requirement already satisfied: urllib3!=1.25.0,!=1.25.1,<1.26,>=1.21.1 in /usr/local/lib/python3.6/dist-packages (from requests->pytelegrambotapi) (1.24.3)\n",
            "Requirement already satisfied: idna<3,>=2.5 in /usr/local/lib/python3.6/dist-packages (from requests->pytelegrambotapi) (2.9)\n",
            "Requirement already satisfied: chardet<4,>=3.0.2 in /usr/local/lib/python3.6/dist-packages (from requests->pytelegrambotapi) (3.0.4)\n",
            "Building wheels for collected packages: pytelegrambotapi\n",
            "  Building wheel for pytelegrambotapi (setup.py) ... \u001b[?25l\u001b[?25hdone\n",
            "  Created wheel for pytelegrambotapi: filename=pyTelegramBotAPI-3.7.1-cp36-none-any.whl size=50883 sha256=2f244d1ab89751b957336c6b00b37252516fb3d309942ec241f698a15336dc7c\n",
            "  Stored in directory: /root/.cache/pip/wheels/cd/b2/2c/eac6af3343b21f907123ce013d20ad5ad70c2c3731072d98bf\n",
            "Successfully built pytelegrambotapi\n",
            "Installing collected packages: pytelegrambotapi\n",
            "Successfully installed pytelegrambotapi-3.7.1\n"
          ],
          "name": "stdout"
        }
      ]
    },
    {
      "cell_type": "code",
      "metadata": {
        "id": "hzICwuvY9HOZ",
        "colab_type": "code",
        "colab": {
          "base_uri": "https://localhost:8080/",
          "height": 77
        },
        "outputId": "685b77e5-d9b2-4110-d64d-e24d63b5ba5f"
      },
      "source": [
        "df.head(1)"
      ],
      "execution_count": 12,
      "outputs": [
        {
          "output_type": "execute_result",
          "data": {
            "text/html": [
              "<div>\n",
              "<style scoped>\n",
              "    .dataframe tbody tr th:only-of-type {\n",
              "        vertical-align: middle;\n",
              "    }\n",
              "\n",
              "    .dataframe tbody tr th {\n",
              "        vertical-align: top;\n",
              "    }\n",
              "\n",
              "    .dataframe thead th {\n",
              "        text-align: right;\n",
              "    }\n",
              "</style>\n",
              "<table border=\"1\" class=\"dataframe\">\n",
              "  <thead>\n",
              "    <tr style=\"text-align: right;\">\n",
              "      <th></th>\n",
              "      <th>year</th>\n",
              "      <th>gdp</th>\n",
              "      <th>edu</th>\n",
              "      <th>health</th>\n",
              "      <th>prom</th>\n",
              "      <th>resource</th>\n",
              "      <th>science</th>\n",
              "      <th>gov</th>\n",
              "      <th>humancap</th>\n",
              "      <th>agricult</th>\n",
              "      <th>socialgrowth</th>\n",
              "      <th>humanres</th>\n",
              "      <th>econgrowth</th>\n",
              "    </tr>\n",
              "  </thead>\n",
              "  <tbody>\n",
              "    <tr>\n",
              "      <th>0</th>\n",
              "      <td>1990</td>\n",
              "      <td>-9.2</td>\n",
              "      <td>0.1</td>\n",
              "      <td>1.3</td>\n",
              "      <td>3.4</td>\n",
              "      <td>2.0</td>\n",
              "      <td>1.1</td>\n",
              "      <td>1.0</td>\n",
              "      <td>2.45</td>\n",
              "      <td>3.2</td>\n",
              "      <td>6.7</td>\n",
              "      <td>15.3</td>\n",
              "      <td>1.4</td>\n",
              "    </tr>\n",
              "  </tbody>\n",
              "</table>\n",
              "</div>"
            ],
            "text/plain": [
              "   year  gdp  edu  health  ...  agricult  socialgrowth  humanres  econgrowth\n",
              "0  1990 -9.2  0.1     1.3  ...       3.2           6.7      15.3         1.4\n",
              "\n",
              "[1 rows x 13 columns]"
            ]
          },
          "metadata": {
            "tags": []
          },
          "execution_count": 12
        }
      ]
    },
    {
      "cell_type": "code",
      "metadata": {
        "id": "4qSlMN_N9JoB",
        "colab_type": "code",
        "colab": {}
      },
      "source": [
        "import telebot\n",
        "\n",
        "#1225576524:AAFCfYOq5JXjB6J5RnsH4MdES7R6xpx74_o\n",
        "bot = telebot.TeleBot('1225576524:AAFCfYOq5JXjB6J5RnsH4MdES7R6xpx74_o')\n",
        "\n",
        "data = [None for i in range(12)]\n",
        "\n",
        "@bot.message_handler(commands=['start'])\n",
        "def start_message(message):\n",
        "    bot.send_message(message.chat.id, 'Regression modeling bot start with /test')\n",
        "\n",
        "@bot.message_handler(content_types=['text'])\n",
        "def start(message):\n",
        "    if message.text == '/test':\n",
        "        bot.send_message(message.from_user.id, \"Give me data \\\n",
        "        gdp,edu,health,prom,resource,science,gov,humancap,agricult,socialgrowth,humanres,humanres\");\n",
        "        bot.register_next_step_handler(message, get_data); #следующий шаг – функция get_name\n",
        "    else:\n",
        "        bot.send_message(message.from_user.id, 'Напиши /test');\n",
        "\n",
        "\n",
        "def get_data(message):\n",
        "  global data\n",
        "  data =  message.text\n",
        "  try:\n",
        "    data = data.split()\n",
        "    data = [float(i) for i in data]\n",
        "    predicted_growth = regressor.predict([data])[0]\n",
        "    response = f'predicted economic growth {predicted_growth}'\n",
        "    bot.send_message(message.from_user.id, response);\n",
        "  except:\n",
        "    bot.send_message(message.from_user.id, 'Data format error');\n",
        "\n",
        "\n",
        "bot.polling()\n"
      ],
      "execution_count": null,
      "outputs": []
    }
  ]
}